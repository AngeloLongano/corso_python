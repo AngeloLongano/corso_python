{
 "cells": [
  {
   "cell_type": "markdown",
   "source": [
    "# Struttura e distribuzione software\n",
    "Quando un programma è molto complesso è meglio suddividelo in moduli: file sorgente separati che implementano parti specifiche.\n",
    "Un insieme di moduli che risolvono problemi correlati può essere raccolto in un package, tanti package possono formare una libreria."
   ],
   "metadata": {
    "collapsed": false
   }
  },
  {
   "cell_type": "markdown",
   "source": [
    "### Moduli\n",
    "Ogni sorgente python puo' essere usato come modulo.\n",
    "\n",
    "Per includere il modulo ci sono diversi modi:\n",
    "\n",
    "    import nome_modulo # poi per usare la funzione basta nome_modulo.nome_funzione\n",
    "    import nome_modulo as etichetta\n",
    "\n",
    "    from nome_package import nome_modulo\n",
    "    from nome_package.nome_modulo import nome_funzione\n",
    "\n",
    "Percorso dei moduli:\n",
    "-   Directory corrente\n",
    "-   Elenco di directory in PYTHONPATH\n",
    "-   Elenco di directory di sistema (/usr/lib/pythonX.X)\n",
    "\n",
    "__sys__ è un modulo built-in che dà accesso a entità a disposizione dell'interprete, come variabili d'ambiente e parametri d'ingresso.\n",
    "\n",
    "-   sys.path = lista del percorso dei moduli (include la var d'ambiente PYTHONPATH)\n",
    "    -   sys.path.append('/home/marcello/lib/mylib')\n",
    "-   sys.argv = lista degli argomenti passati a linea di comando a uno script / comando Python\n",
    "    -   argv[0] = nome di script/comando python\n",
    "    -   argv[1] = primo parametro d'ingresso\n",
    "    -   argv[n] = n-esimo parametro d'ingresso (parametri passati sempre come stringhe)\n",
    "\n",
    "### Package\n",
    "Il concetto di package permette di strutturare in modo gerarchico i moduli (e i loro namespace). Il compilatore Python crea per ciascun modulo un namespace (contenitore di simboli)\n",
    "Una cartella che contiene un file __\\_\\_init\\_\\_.py__ allora è un package:\n",
    "-   I file .py al suo interno sono i vari moduli del package\n",
    "-   Le varie sottocartella sono i suoi subpackages\n",
    "\n",
    "\\_\\_init__.py può anche essere vuoto, ma solitamente contiene il codice di inizializzazione di package/moduli relativi. Viene eseguito quando si importa il package.\n",
    "\n",
    "#### import *\n",
    "    from package import *\n",
    "\n",
    "Importa la lista dei moduli contenuta in \\_\\_all__ definito nel \\_\\_init__.py.\n",
    "\n",
    "    __all__ = [\"echo\", \"surround\", \"reverse\"]\n",
    "\n",
    "Se invece \\_\\_all__ non è definita, non li importa.\n",
    "\n",
    "### Librerie\n",
    "Una libreria è una raccolta di pacchetti\n",
    "Python ha un enorme catalogo di librerie disponibili [PyPI](https://pypi.org/) oltre a quelle [standard](https://docs.python.org/3/library/).\n",
    "\n",
    "### Sample struttura progetto\n",
    "ProgettoPython/\n",
    "-    main.py\n",
    "-   progetto/\n",
    "    -   \\_\\_init__.py\n",
    "    -   core.py\n",
    "    -   utils.py\n",
    "    -   gui/\n",
    "        -   \\_\\_init__.py\n",
    "        -   widgets.py\n",
    "        -   windows.py\n",
    "    -   test/\n",
    "        -   \\_\\_init__.py\n",
    "        -   test_core.py\n",
    "        -   test_utils.py\n",
    "        -   test_widgets.py\n",
    "        -   test_windows.py"
   ],
   "metadata": {
    "collapsed": false
   }
  },
  {
   "cell_type": "markdown",
   "source": [
    "## Distribuzione del codice\n",
    "\n",
    "Python __non è un linguaggio compilato__.\n",
    "Quindi non parliamo di distribuire eseguibili, ma codice sorgente o binario\n",
    "Per binario intendiamo un __Wheel__.\n",
    "\n",
    "[Documentazione completa](https://packaging.python.org/en/latest/guides/distributing-packages-using-setuptools/)\n",
    "\n",
    "### Modo immediato\n",
    "Basta creare un file chiamato __setup.py__ nella directory principale del pacchetto.\n",
    "I file setup.py includono molte informazioni sui metadati come autore, licenza, manutentori e altre informazioni relative al pacchetto.\n",
    "\n",
    "#### Esempio\n",
    "scaricare i [sorgenti](https://github.com/pypa/sampleproject)\n",
    "entrare nella cartella ed eseguire:\n",
    "\n",
    "    sh> python3 -m pip install --upgrade build\n",
    "    sh> python3 -m build\n",
    "\n",
    "Viene creata un cartella __dist__ con il file _Wheel_ e un _archivio_.\n",
    "-   sampleproject-2.0.0-py3-none-any.whl\n",
    "-   sampleproject-2.0.0.tar.gz\n",
    "\n",
    "Per installare la libreria:\n",
    "\n",
    "    sh> cd dist\n",
    "    sh> python3 -m pip install sampleproject-2.0.0-py3-none-any.whl\n",
    "\n",
    "Ora dalla shell python potete usare:\n",
    "\n",
    "    from sample import simple\n",
    "    simple.add_one( 100 )\n",
    "\n",
    "Per disinstallare la libreria:\n",
    "\n",
    "    sh> python3 -m pip uninstall sampleproject\n",
    "\n",
    "Lista dei pacchetti nell'ambiente:\n",
    "\n",
    "    sh> python3 -m pip list"
   ],
   "metadata": {
    "collapsed": false
   }
  },
  {
   "cell_type": "markdown",
   "source": [
    "## Naming Notation in Python\n",
    "__Tipi di notazioni:__\n",
    "![alt Image](media/name_notation.png)\n",
    "\n",
    "__Naming notation in Python:__\n",
    "![alt Image](media/naming_convention_python.png)\n",
    "\n"
   ],
   "metadata": {
    "collapsed": false
   }
  }
 ],
 "metadata": {
  "kernelspec": {
   "display_name": "Python 3",
   "language": "python",
   "name": "python3"
  },
  "language_info": {
   "codemirror_mode": {
    "name": "ipython",
    "version": 2
   },
   "file_extension": ".py",
   "mimetype": "text/x-python",
   "name": "python",
   "nbconvert_exporter": "python",
   "pygments_lexer": "ipython2",
   "version": "2.7.6"
  }
 },
 "nbformat": 4,
 "nbformat_minor": 0
}
